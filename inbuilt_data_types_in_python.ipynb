{
  "nbformat": 4,
  "nbformat_minor": 0,
  "metadata": {
    "colab": {
      "provenance": [],
      "authorship_tag": "ABX9TyPzrFHSyE3XpY9OJdwgzp+K",
      "include_colab_link": true
    },
    "kernelspec": {
      "name": "python3",
      "display_name": "Python 3"
    },
    "language_info": {
      "name": "python"
    }
  },
  "cells": [
    {
      "cell_type": "markdown",
      "metadata": {
        "id": "view-in-github",
        "colab_type": "text"
      },
      "source": [
        "<a href=\"https://colab.research.google.com/github/mano2102/JPA_AND_JPQL/blob/main/inbuilt_data_types_in_python.ipynb\" target=\"_parent\"><img src=\"https://colab.research.google.com/assets/colab-badge.svg\" alt=\"Open In Colab\"/></a>"
      ]
    },
    {
      "cell_type": "code",
      "execution_count": 2,
      "metadata": {
        "colab": {
          "base_uri": "https://localhost:8080/"
        },
        "id": "-UNUA0P27hj4",
        "outputId": "09182fb5-07e8-4e3f-9ee1-d6ea2697409c"
      },
      "outputs": [
        {
          "output_type": "stream",
          "name": "stdout",
          "text": [
            "<class 'list'>\n"
          ]
        }
      ],
      "source": [
        "list=[]\n",
        "print(type(list))"
      ]
    },
    {
      "cell_type": "code",
      "source": [
        "names=[\"mano\",\"palani\",\"raja\",\"iamneo\"]\n",
        "print(names)"
      ],
      "metadata": {
        "colab": {
          "base_uri": "https://localhost:8080/"
        },
        "id": "PFkLJhvQ8iu4",
        "outputId": "0489ab05-83b9-4dc2-91d6-03b9f8690643"
      },
      "execution_count": 4,
      "outputs": [
        {
          "output_type": "stream",
          "name": "stdout",
          "text": [
            "['mano', 'palani', 'raja', 'iamneo']\n"
          ]
        }
      ]
    },
    {
      "cell_type": "code",
      "source": [
        "mixed_list=[\"mano\",3.14,12]\n",
        "print(mixed_list)\n",
        "print(type(mixed_list))"
      ],
      "metadata": {
        "colab": {
          "base_uri": "https://localhost:8080/"
        },
        "id": "4mUvjshs8oYr",
        "outputId": "234ae9e2-6475-413c-ed73-75d42bbb847e"
      },
      "execution_count": 6,
      "outputs": [
        {
          "output_type": "stream",
          "name": "stdout",
          "text": [
            "['mano', 3.14, 12]\n",
            "<class 'list'>\n"
          ]
        }
      ]
    },
    {
      "cell_type": "markdown",
      "source": [],
      "metadata": {
        "id": "YVqENz9i88Fn"
      }
    },
    {
      "cell_type": "code",
      "source": [
        "fruits=[\"apple\",\"orange\",\"papaya\",\"guava\"]\n"
      ],
      "metadata": {
        "id": "iJJboGNd83be"
      },
      "execution_count": 7,
      "outputs": []
    },
    {
      "cell_type": "code",
      "source": [
        "#Accessing the elements in list\n",
        "print(fruits[1])\n",
        "print(fruits[3])\n",
        "# print(fruits[6])"
      ],
      "metadata": {
        "colab": {
          "base_uri": "https://localhost:8080/",
          "height": 211
        },
        "id": "fLD_JL42881f",
        "outputId": "fe3346f3-16f8-4fde-cef1-1a236eaa5dcf"
      },
      "execution_count": 9,
      "outputs": [
        {
          "output_type": "stream",
          "name": "stdout",
          "text": [
            "orange\n",
            "guava\n"
          ]
        },
        {
          "output_type": "error",
          "ename": "IndexError",
          "evalue": "list index out of range",
          "traceback": [
            "\u001b[0;31m---------------------------------------------------------------------------\u001b[0m",
            "\u001b[0;31mIndexError\u001b[0m                                Traceback (most recent call last)",
            "\u001b[0;32m<ipython-input-9-f3626f3968cb>\u001b[0m in \u001b[0;36m<cell line: 3>\u001b[0;34m()\u001b[0m\n\u001b[1;32m      1\u001b[0m \u001b[0mprint\u001b[0m\u001b[0;34m(\u001b[0m\u001b[0mfruits\u001b[0m\u001b[0;34m[\u001b[0m\u001b[0;36m1\u001b[0m\u001b[0;34m]\u001b[0m\u001b[0;34m)\u001b[0m\u001b[0;34m\u001b[0m\u001b[0;34m\u001b[0m\u001b[0m\n\u001b[1;32m      2\u001b[0m \u001b[0mprint\u001b[0m\u001b[0;34m(\u001b[0m\u001b[0mfruits\u001b[0m\u001b[0;34m[\u001b[0m\u001b[0;36m3\u001b[0m\u001b[0;34m]\u001b[0m\u001b[0;34m)\u001b[0m\u001b[0;34m\u001b[0m\u001b[0;34m\u001b[0m\u001b[0m\n\u001b[0;32m----> 3\u001b[0;31m \u001b[0mprint\u001b[0m\u001b[0;34m(\u001b[0m\u001b[0mfruits\u001b[0m\u001b[0;34m[\u001b[0m\u001b[0;36m6\u001b[0m\u001b[0;34m]\u001b[0m\u001b[0;34m)\u001b[0m\u001b[0;34m\u001b[0m\u001b[0;34m\u001b[0m\u001b[0m\n\u001b[0m",
            "\u001b[0;31mIndexError\u001b[0m: list index out of range"
          ]
        }
      ]
    },
    {
      "cell_type": "code",
      "source": [
        "# Access all the elements in list\n",
        "\n",
        "for fruit in fruits:\n",
        "  print(fruit)"
      ],
      "metadata": {
        "colab": {
          "base_uri": "https://localhost:8080/"
        },
        "id": "PVIFBQBr9FUJ",
        "outputId": "c0034a71-bf53-4c10-b648-675802ec6f78"
      },
      "execution_count": 10,
      "outputs": [
        {
          "output_type": "stream",
          "name": "stdout",
          "text": [
            "apple\n",
            "orange\n",
            "papaya\n",
            "guava\n"
          ]
        }
      ]
    },
    {
      "cell_type": "code",
      "source": [
        "# Access thee elements in the list using range loop\n",
        "\n",
        "for i in range(0,len(fruits)):\n",
        "  print(fruits[i])"
      ],
      "metadata": {
        "colab": {
          "base_uri": "https://localhost:8080/"
        },
        "id": "_MENKd_j9LAO",
        "outputId": "d37c075b-fe05-4e0c-b5d5-fb5ef0ed3db5"
      },
      "execution_count": 11,
      "outputs": [
        {
          "output_type": "stream",
          "name": "stdout",
          "text": [
            "apple\n",
            "orange\n",
            "papaya\n",
            "guava\n"
          ]
        }
      ]
    },
    {
      "cell_type": "code",
      "source": [
        "#print all the numbers using enumerate\n",
        "\n",
        "for index, fruit in enumerate(fruits):\n",
        "  print(f\"Index of the fruit {fruit} : {index}\")"
      ],
      "metadata": {
        "colab": {
          "base_uri": "https://localhost:8080/"
        },
        "id": "o9jgJhUpDh3F",
        "outputId": "f0998a28-a8d3-47da-f180-1d100f274773"
      },
      "execution_count": 56,
      "outputs": [
        {
          "output_type": "stream",
          "name": "stdout",
          "text": [
            "Index of the fruit a : 0\n"
          ]
        }
      ]
    },
    {
      "cell_type": "markdown",
      "source": [
        "# Print all the elements using the slice operator\n"
      ],
      "metadata": {
        "id": "twSMzRe_9gBR"
      }
    },
    {
      "cell_type": "code",
      "source": [
        "# Print al the elements since start and end is not given\n",
        "# first is for starting point and second one is for ending point last one is for the step index\n",
        "print(fruits[::1])\n",
        "\n",
        "# print all the elements in the list in the reverse order since -1 is given in the start and nothing is mentioned in the last\n",
        "# As the step index is starting from the minus and start and end is not given it is printing from the step = -1 which is reverse order\n",
        "print(fruits[::-1])"
      ],
      "metadata": {
        "colab": {
          "base_uri": "https://localhost:8080/"
        },
        "id": "QQlfSne29lxF",
        "outputId": "9001423a-1f9c-4d1d-8a92-5b9701af14ac"
      },
      "execution_count": 24,
      "outputs": [
        {
          "output_type": "stream",
          "name": "stdout",
          "text": [
            "['apple', 'orange', 'papaya', 'guava']\n",
            "['guava', 'papaya', 'orange', 'apple']\n"
          ]
        }
      ]
    },
    {
      "cell_type": "code",
      "source": [
        "# Adding elements in the list -append the element in the last using append()\n",
        "fruits.append(\"banana\")\n",
        "print(fruits)"
      ],
      "metadata": {
        "colab": {
          "base_uri": "https://localhost:8080/"
        },
        "id": "YUUgKKo7AAmJ",
        "outputId": "4f25c491-71e4-4d41-f939-44283dee2f01"
      },
      "execution_count": 27,
      "outputs": [
        {
          "output_type": "stream",
          "name": "stdout",
          "text": [
            "['apple', 'orange', 'papaya', 'guava', 'banana', 'banana']\n"
          ]
        }
      ]
    },
    {
      "cell_type": "code",
      "source": [
        "fruits[2]=\"watermelon\"\n",
        "print(fruits)"
      ],
      "metadata": {
        "colab": {
          "base_uri": "https://localhost:8080/"
        },
        "id": "M3avyztZAN0h",
        "outputId": "a369542f-b5bb-4c55-adfc-a1384d001e18"
      },
      "execution_count": 29,
      "outputs": [
        {
          "output_type": "stream",
          "name": "stdout",
          "text": [
            "['apple', 'orange', 'watermelon', 'guava', 'banana', 'banana']\n"
          ]
        }
      ]
    },
    {
      "cell_type": "code",
      "source": [
        "# Using insert() we can insert element into the specific index\n",
        "\n",
        "fruits.insert(1,\"grapes\")\n",
        "print(fruits)"
      ],
      "metadata": {
        "colab": {
          "base_uri": "https://localhost:8080/"
        },
        "id": "cRCo_1waApQV",
        "outputId": "c5e4e081-f5d6-47f8-9878-638866937081"
      },
      "execution_count": 30,
      "outputs": [
        {
          "output_type": "stream",
          "name": "stdout",
          "text": [
            "['apple', 'grapes', 'orange', 'watermelon', 'guava', 'banana', 'banana']\n"
          ]
        }
      ]
    },
    {
      "cell_type": "code",
      "source": [
        "# remove the fruits at the specific index removes the last index if the index is not given and returns the last element\n",
        "fruits.pop(2)\n",
        "print(fruits)\n",
        "# Orange is removed from the index 2"
      ],
      "metadata": {
        "colab": {
          "base_uri": "https://localhost:8080/"
        },
        "id": "NY-EOmz0A4Uj",
        "outputId": "48aa7b22-8133-433f-e6ad-a3a4a75fc549"
      },
      "execution_count": 33,
      "outputs": [
        {
          "output_type": "stream",
          "name": "stdout",
          "text": [
            "['apple', 'grapes', 'banana', 'banana']\n"
          ]
        }
      ]
    },
    {
      "cell_type": "code",
      "source": [
        "# Remove the element using remove() method removes the specified element\n",
        "fruits.remove(\"guava\")\n",
        "print(fruits)"
      ],
      "metadata": {
        "colab": {
          "base_uri": "https://localhost:8080/"
        },
        "id": "8-zMyvXnBCDF",
        "outputId": "94d1b965-c6de-4a3d-811c-928f754ecdac"
      },
      "execution_count": 32,
      "outputs": [
        {
          "output_type": "stream",
          "name": "stdout",
          "text": [
            "['apple', 'grapes', 'watermelon', 'banana', 'banana']\n"
          ]
        }
      ]
    },
    {
      "cell_type": "code",
      "source": [
        "print(\"Index of fruit grapes: \",fruits.index(\"grapes\"))"
      ],
      "metadata": {
        "colab": {
          "base_uri": "https://localhost:8080/"
        },
        "id": "-x0rchBhBcEL",
        "outputId": "62533d5c-17ed-4729-e962-15e41925bd4d"
      },
      "execution_count": 37,
      "outputs": [
        {
          "output_type": "stream",
          "name": "stdout",
          "text": [
            "Index of fruit grapes:  1\n"
          ]
        }
      ]
    },
    {
      "cell_type": "code",
      "source": [
        "#\n",
        "numbers=[1,2,3,4,5,6,7,8,9,10,11,12,13,14,15]\n",
        "# print all the numbers\n",
        "print(numbers)\n",
        "# print the numbers from first point to 5 th one\n",
        "print(numbers[1:5])\n",
        "# print all the numbers in the list\n",
        "print(numbers[:])\n",
        "#print the number -last\n",
        "print(numbers[-1:])\n",
        "# Print all the last two numbers\n",
        "print(numbers[-2:])\n",
        "\n",
        "# print the  numbers using step =2\n",
        "print(numbers[::2])\n",
        "# print the numbers in reverse as the step is going to start from the last\n",
        "print(numbers[::-1])"
      ],
      "metadata": {
        "colab": {
          "base_uri": "https://localhost:8080/"
        },
        "id": "4Y-DNCMOCEdC",
        "outputId": "6315c5e2-698d-403a-8346-38eda64867d3"
      },
      "execution_count": 52,
      "outputs": [
        {
          "output_type": "stream",
          "name": "stdout",
          "text": [
            "[1, 2, 3, 4, 5, 6, 7, 8, 9, 10, 11, 12, 13, 14, 15]\n",
            "[2, 3, 4, 5]\n",
            "[1, 2, 3, 4, 5, 6, 7, 8, 9, 10, 11, 12, 13, 14, 15]\n",
            "[15]\n",
            "[14, 15]\n",
            "[1, 3, 5, 7, 9, 11, 13, 15]\n",
            "[15, 14, 13, 12, 11, 10, 9, 8, 7, 6, 5, 4, 3, 2, 1]\n"
          ]
        }
      ]
    },
    {
      "cell_type": "code",
      "source": [],
      "metadata": {
        "id": "igUQX5dMEFFp"
      },
      "execution_count": null,
      "outputs": []
    },
    {
      "cell_type": "markdown",
      "source": [
        "## Print all the elements using enumerate"
      ],
      "metadata": {
        "id": "-FppoVq8EA6i"
      }
    },
    {
      "cell_type": "code",
      "source": [
        "for index,number in enumerate(numbers):\n",
        "  print(f\"Index : {index}, number: {number}\")"
      ],
      "metadata": {
        "colab": {
          "base_uri": "https://localhost:8080/"
        },
        "id": "H4ECnspnEFpR",
        "outputId": "d4c325cd-51ed-4128-c27b-d0c20f6f4839"
      },
      "execution_count": 59,
      "outputs": [
        {
          "output_type": "stream",
          "name": "stdout",
          "text": [
            "Index : 0, number: 1\n",
            "Index : 1, number: 2\n",
            "Index : 2, number: 3\n",
            "Index : 3, number: 4\n",
            "Index : 4, number: 5\n",
            "Index : 5, number: 6\n",
            "Index : 6, number: 7\n",
            "Index : 7, number: 8\n",
            "Index : 8, number: 9\n",
            "Index : 9, number: 10\n",
            "Index : 10, number: 11\n",
            "Index : 11, number: 12\n",
            "Index : 12, number: 13\n",
            "Index : 13, number: 14\n",
            "Index : 14, number: 15\n"
          ]
        }
      ]
    },
    {
      "cell_type": "code",
      "source": [
        "# List comprehension\n",
        "list=[]\n",
        "for i in range(10):\n",
        "  list.append(i**2)\n",
        "print(list)"
      ],
      "metadata": {
        "colab": {
          "base_uri": "https://localhost:8080/"
        },
        "id": "6DQS4xjAEFbF",
        "outputId": "2fd8f3e1-08d6-4192-eebe-fa75f4926d5b"
      },
      "execution_count": 65,
      "outputs": [
        {
          "output_type": "stream",
          "name": "stdout",
          "text": [
            "[0, 1, 4, 9, 16, 25, 36, 49, 64, 81]\n"
          ]
        }
      ]
    },
    {
      "cell_type": "code",
      "source": [
        "#  add the same elements using a single line\n",
        "list=[i**2 for i in range(0,10)]\n",
        "print(list)"
      ],
      "metadata": {
        "colab": {
          "base_uri": "https://localhost:8080/"
        },
        "id": "DT9jbQnXE5Ag",
        "outputId": "63639a2a-29cf-4d73-8881-5860848ec2b8"
      },
      "execution_count": 67,
      "outputs": [
        {
          "output_type": "stream",
          "name": "stdout",
          "text": [
            "[0, 1, 4, 9, 16, 25, 36, 49, 64, 81]\n"
          ]
        }
      ]
    },
    {
      "cell_type": "code",
      "source": [
        "# Print the even elements using oneline\n",
        "[num for  num in range(0,10) if num%2==0]"
      ],
      "metadata": {
        "colab": {
          "base_uri": "https://localhost:8080/"
        },
        "id": "IodQKk-cFJQF",
        "outputId": "c3ed7498-2dcc-4ffd-acbc-e9bde0bf8fe4"
      },
      "execution_count": 73,
      "outputs": [
        {
          "output_type": "execute_result",
          "data": {
            "text/plain": [
              "[0, 2, 4, 6, 8]"
            ]
          },
          "metadata": {},
          "execution_count": 73
        }
      ]
    },
    {
      "cell_type": "markdown",
      "source": [
        "List Practise Assignments\n"
      ],
      "metadata": {
        "id": "AHgLL_hFGfZO"
      }
    },
    {
      "cell_type": "markdown",
      "source": [
        "<h1>Assignment -1</h1>\n",
        "<b>Simple If condition</b><br>\n",
        "Write a program that asks the user to input a number and prints whether the number is positive"
      ],
      "metadata": {
        "id": "659COmP6Gkoe"
      }
    },
    {
      "cell_type": "code",
      "source": [
        "number=int(input(\"Enter the number:\"))\n",
        "if number>0:\n",
        "  print(\"The given number is positive\")\n",
        "else:\n",
        "  print(\"<b>The given number is negative</b>\")"
      ],
      "metadata": {
        "colab": {
          "base_uri": "https://localhost:8080/"
        },
        "id": "Atws6vxHG0u6",
        "outputId": "6ab4d5f8-f7f7-4758-c588-016251882053"
      },
      "execution_count": 75,
      "outputs": [
        {
          "output_type": "stream",
          "name": "stdout",
          "text": [
            "Enter the number:10\n",
            "The given number is positive\n"
          ]
        }
      ]
    },
    {
      "cell_type": "markdown",
      "source": [
        "<h1>Assignment -2</h1>\n",
        "<b>Write a program that asks the user to input a number and prints whether the number is positive or negative</b>"
      ],
      "metadata": {
        "id": "r0tiMdMDHMI9"
      }
    },
    {
      "cell_type": "code",
      "source": [
        "number=int(input(\"Enter the number:\"))\n",
        "if number>0:\n",
        "  print(\"The given number is positive\")\n",
        "else:\n",
        "  print(\"<b>The given number is negative</b>\")\n",
        ""
      ],
      "metadata": {
        "colab": {
          "base_uri": "https://localhost:8080/"
        },
        "id": "mHOZxKtvHIHL",
        "outputId": "8e4e73a2-0ebb-49ba-dc08-3b54ed07dfdc"
      },
      "execution_count": 76,
      "outputs": [
        {
          "output_type": "stream",
          "name": "stdout",
          "text": [
            "Enter the number:230\n",
            "The given number is positive\n"
          ]
        }
      ]
    },
    {
      "cell_type": "markdown",
      "source": [
        "<h1>Assignment -3</h1>\n",
        "<b>Write a program that asks the user to input a number and prints whether the number is positive, negative or zero.</b>"
      ],
      "metadata": {
        "id": "6w505ZBYHj5Y"
      }
    },
    {
      "cell_type": "code",
      "source": [
        "number =int(input(\"Enter the number:\"))\n",
        "if number>0:\n",
        "  print(\"The given number is positive\")\n",
        "elif number<0:\n",
        "  print(\"The given number is negative\")\n",
        "else:\n",
        "  print(\"The given number is zero\")"
      ],
      "metadata": {
        "colab": {
          "base_uri": "https://localhost:8080/"
        },
        "id": "L-tVhFe_HlFc",
        "outputId": "cf608546-8425-41dc-ac98-0941a9920be1"
      },
      "execution_count": 77,
      "outputs": [
        {
          "output_type": "stream",
          "name": "stdout",
          "text": [
            "Enter the number:-29\n",
            "The given number is negative\n"
          ]
        }
      ]
    },
    {
      "cell_type": "markdown",
      "source": [
        "<h1>Assignment 4: Nested if Statement<h1>\n",
        "<b>Write a program that asks the user to input a number and prints whether the number is positive and even, positive and odd, or negative.</b>"
      ],
      "metadata": {
        "id": "DlJhahafH6O3"
      }
    },
    {
      "cell_type": "code",
      "source": [
        "number=int(input(\"Enter the number: \"))\n",
        "if number>0:\n",
        "  if number%2==0:\n",
        "    print(\"The given number is positive and even\")\n",
        "  else:\n",
        "    print(\"The given number is postive and odd\")\n",
        "elif number<0:\n",
        "  if number%2!=0:\n",
        "    print(\"The given number is negative and odd\")\n",
        "  else:\n",
        "    print(\"The given number is negative and even\")\n"
      ],
      "metadata": {
        "colab": {
          "base_uri": "https://localhost:8080/"
        },
        "id": "uYnjgjqzICtX",
        "outputId": "382f8b10-b086-4b10-efba-0b202df74b03"
      },
      "execution_count": 81,
      "outputs": [
        {
          "output_type": "stream",
          "name": "stdout",
          "text": [
            "Enter the number: -103\n",
            "The given number is negative and odd\n"
          ]
        }
      ]
    },
    {
      "cell_type": "markdown",
      "source": [
        "<h1>Assignment 5: for Loop</h1>\n",
        "<b>Write a program that prints all the numbers from 1 to 10 using a for loop.</b>"
      ],
      "metadata": {
        "id": "eMYAgwLqIvmI"
      }
    },
    {
      "cell_type": "code",
      "source": [
        "for i in range(1,11):\n",
        "  print(i)"
      ],
      "metadata": {
        "colab": {
          "base_uri": "https://localhost:8080/"
        },
        "id": "jFvx39v1I3NM",
        "outputId": "04babf01-3424-4219-d5ba-75fcd6f155f2"
      },
      "execution_count": 83,
      "outputs": [
        {
          "output_type": "stream",
          "name": "stdout",
          "text": [
            "1\n",
            "2\n",
            "3\n",
            "4\n",
            "5\n",
            "6\n",
            "7\n",
            "8\n",
            "9\n",
            "10\n"
          ]
        }
      ]
    },
    {
      "cell_type": "markdown",
      "source": [
        "<h1>Assignment 6: while Loop</h1>\n",
        "<b>Write a program that prints all the numbers from 1 to 10 using a while loop</b>"
      ],
      "metadata": {
        "id": "UaHUooZII-Bw"
      }
    },
    {
      "cell_type": "code",
      "source": [
        "num=1\n",
        "while num<=10:\n",
        "  print(num);\n",
        "  num+=1"
      ],
      "metadata": {
        "colab": {
          "base_uri": "https://localhost:8080/"
        },
        "id": "xFc_9WbeJEIF",
        "outputId": "e198318f-b2cc-4e38-e9a9-431a48be5543"
      },
      "execution_count": 88,
      "outputs": [
        {
          "output_type": "stream",
          "name": "stdout",
          "text": [
            "1\n",
            "2\n",
            "3\n",
            "4\n",
            "5\n",
            "6\n",
            "7\n",
            "8\n",
            "9\n",
            "10\n"
          ]
        }
      ]
    },
    {
      "cell_type": "markdown",
      "source": [
        "<h1>Assignment 7: Nested Loops</h1>\n",
        "<b>Write a program that prints a 5x5 grid of asterisks (*) using nested loops.</b>"
      ],
      "metadata": {
        "id": "wTJdCXpJJePP"
      }
    },
    {
      "cell_type": "code",
      "source": [
        "for i in range(0,5):\n",
        "  for j in range(0,5):\n",
        "    print(\"*\",end=\" \")\n",
        "  print(\"\\n\")"
      ],
      "metadata": {
        "colab": {
          "base_uri": "https://localhost:8080/"
        },
        "id": "SbjrSgQkJcmL",
        "outputId": "e0f80794-685d-4a39-d74b-ede36410f7ac"
      },
      "execution_count": 94,
      "outputs": [
        {
          "output_type": "stream",
          "name": "stdout",
          "text": [
            "* * * * * \n",
            "\n",
            "* * * * * \n",
            "\n",
            "* * * * * \n",
            "\n",
            "* * * * * \n",
            "\n",
            "* * * * * \n",
            "\n"
          ]
        }
      ]
    },
    {
      "cell_type": "markdown",
      "source": [
        "<h1>Assignment 8: break Statement</h1>\n",
        "<b>Write a program that asks the user to input numbers until they input 0. The program should print the sum of all the input numbers.</b>"
      ],
      "metadata": {
        "id": "V07cfPDBJ3qs"
      }
    },
    {
      "cell_type": "code",
      "source": [
        "sum=0;\n",
        "while True:\n",
        "  number= int(input())\n",
        "  sum+=number\n",
        "  if number==0:\n",
        "    break\n",
        "print(sum)"
      ],
      "metadata": {
        "colab": {
          "base_uri": "https://localhost:8080/"
        },
        "id": "P9lDjo-QJ92V",
        "outputId": "dbdce2a9-16f9-43ee-c718-49711d847e31"
      },
      "execution_count": 98,
      "outputs": [
        {
          "output_type": "stream",
          "name": "stdout",
          "text": [
            "12\n",
            "21\n",
            "0\n",
            "33\n"
          ]
        }
      ]
    },
    {
      "cell_type": "markdown",
      "source": [
        "<style>\n",
        "h1{\n",
        "  color:red;\n",
        "}</style>\n",
        "<h1 >Assignment 9: continue Statement<h1>\n",
        "\n",
        "---\n",
        "\n",
        "\n",
        "<b>Write a program that prints all the numbers from 1 to 10 except 5 using a for loop and continue statement.</b>\n"
      ],
      "metadata": {
        "id": "28sbz8GwKUhK"
      }
    },
    {
      "cell_type": "code",
      "source": [
        "for i in range(0,11):\n",
        "  if(i==5):\n",
        "    continue\n",
        "  print(i)"
      ],
      "metadata": {
        "colab": {
          "base_uri": "https://localhost:8080/"
        },
        "id": "fZjnwnpPKzM6",
        "outputId": "8c18883d-8c7c-4572-c241-bf7ef85c48d9"
      },
      "execution_count": 99,
      "outputs": [
        {
          "output_type": "stream",
          "name": "stdout",
          "text": [
            "0\n",
            "1\n",
            "2\n",
            "3\n",
            "4\n",
            "6\n",
            "7\n",
            "8\n",
            "9\n",
            "10\n"
          ]
        }
      ]
    },
    {
      "cell_type": "markdown",
      "source": [
        "<h1>Assignment 10: pass Statement</h1>\n",
        "<b>Write a program that defines an empty function using the pass statement.</b>"
      ],
      "metadata": {
        "id": "Ab_bfvWIK7b-"
      }
    },
    {
      "cell_type": "code",
      "source": [
        "def empty():\n",
        "  pass"
      ],
      "metadata": {
        "id": "Jdz2Zyg5LDAT"
      },
      "execution_count": 100,
      "outputs": []
    },
    {
      "cell_type": "markdown",
      "source": [
        "<h1><i>Assignment 11: Combining Loops and Conditionals</h1>\n",
        "<b>Write a program that asks the user to input a number and prints all the even numbers from 1 to that number using a for loop</b>"
      ],
      "metadata": {
        "id": "FdF63o9XLHZ3"
      }
    },
    {
      "cell_type": "code",
      "source": [
        "number =int(input(\"Enter the number: \"))\n",
        "for i in range(1,number+1):\n",
        "  if i%2==0:\n",
        "    print(i,end=\" \")\n"
      ],
      "metadata": {
        "colab": {
          "base_uri": "https://localhost:8080/"
        },
        "id": "1_OgFYJQLS87",
        "outputId": "f3051d8c-e3b9-474f-a059-1001cb76b68b"
      },
      "execution_count": 103,
      "outputs": [
        {
          "output_type": "stream",
          "name": "stdout",
          "text": [
            "Enter the number: 10\n",
            "2 4 6 8 10 "
          ]
        }
      ]
    },
    {
      "cell_type": "markdown",
      "source": [
        "<h1>Assignment 12: Factorial Calculation</h1>\n",
        "<b>Write a program that calculates the factorial of a number input by the user using a while loop.</b>"
      ],
      "metadata": {
        "id": "cn3lyRAHLviy"
      }
    },
    {
      "cell_type": "code",
      "source": [
        "number = int(input(\"Enter the number: \"))\n",
        "def factorial(n):\n",
        "  if n==0:\n",
        "    return 1\n",
        "  else:\n",
        "    return n*factorial(n-1)\n",
        "print(f\"The factorial of {number} is {factorial(number)}\")\n"
      ],
      "metadata": {
        "colab": {
          "base_uri": "https://localhost:8080/"
        },
        "id": "v6IzqgmpMhh8",
        "outputId": "c0dfaa5e-0427-4f95-b915-24a7e6cfee58"
      },
      "execution_count": 106,
      "outputs": [
        {
          "output_type": "stream",
          "name": "stdout",
          "text": [
            "Enter the number: 5\n",
            "The factorial of 5 is 120\n"
          ]
        }
      ]
    },
    {
      "cell_type": "markdown",
      "source": [
        "<h1>Assignment 13: Sum of Digits</h1>\n",
        "<b>Write a program that calculates the sum of the digits of a number input by the user using a while loop</b>"
      ],
      "metadata": {
        "id": "9q-cGro4NVRO"
      }
    },
    {
      "cell_type": "code",
      "source": [
        "number=int(input(\"Enter the number :\"))\n",
        "sum=0\n",
        "while number>0:\n",
        "  digit=number%10\n",
        "  sum+=digit\n",
        "  number=number//10\n",
        "print(f\"Sum of the integers {sum}\")"
      ],
      "metadata": {
        "colab": {
          "base_uri": "https://localhost:8080/"
        },
        "id": "pRNKaaDeNcem",
        "outputId": "462d8f85-304a-4988-b208-5ab10e62418e"
      },
      "execution_count": 112,
      "outputs": [
        {
          "output_type": "stream",
          "name": "stdout",
          "text": [
            "Enter the number :1234\n",
            "Sum of the integers 10\n"
          ]
        }
      ]
    },
    {
      "cell_type": "markdown",
      "source": [
        "<h1>Assignment 14: Prime Number Check</h1>\n",
        "<b>Write a program that checks if a number input by the user is a prime number using a for loop.</b>"
      ],
      "metadata": {
        "id": "l_K1SvcIOmvY"
      }
    },
    {
      "cell_type": "code",
      "source": [
        "def is_prime(number):\n",
        "  if number<=0:\n",
        "    return False\n",
        "  for i in range(2,number//2):\n",
        "    if number%i==0:\n",
        "      return False\n",
        "  return True\n",
        "number=int(input(\"Enter the number: \"))\n",
        "result=is_prime(number)\n",
        "if result:\n",
        "  print(f\"{number} is a prime number\")\n",
        "else:\n",
        "  print(f\"{number} is not a prime number\")"
      ],
      "metadata": {
        "colab": {
          "base_uri": "https://localhost:8080/"
        },
        "id": "ZSd65Nta_r2H",
        "outputId": "90f46111-937a-4053-bbb0-ee0779dc8d25"
      },
      "execution_count": 15,
      "outputs": [
        {
          "output_type": "stream",
          "name": "stdout",
          "text": [
            "Enter the number: 140\n",
            "140 is not a prime number\n"
          ]
        }
      ]
    },
    {
      "cell_type": "markdown",
      "source": [
        "<h1>Assignment 15: Fibonacci Sequence</h1>\n",
        "<b>Write a program that prints the first n Fibonacci numbers, where n is input by the user.</b>"
      ],
      "metadata": {
        "id": "gtzTcZYDOwSJ"
      }
    },
    {
      "cell_type": "code",
      "source": [
        "number=int(input(\"Enter the number:\"))\n",
        "n1=0\n",
        "n2=1\n",
        "print(n1,n2,end=' ')\n",
        "for i in range(0,number-2):\n",
        "  n3=n2+n1\n",
        "  print(n3,end=' ')\n",
        "  n1=n2\n",
        "  n2=n3\n"
      ],
      "metadata": {
        "colab": {
          "base_uri": "https://localhost:8080/"
        },
        "id": "mB0r3-MrPH0O",
        "outputId": "0f01a530-d04a-4ff0-b0e7-b42440d4361e"
      },
      "execution_count": 6,
      "outputs": [
        {
          "output_type": "stream",
          "name": "stdout",
          "text": [
            "Enter the number:5\n",
            "0 1 1 2 3 "
          ]
        }
      ]
    },
    {
      "cell_type": "markdown",
      "source": [
        "<span style=\"color: red;\">This text is red.</span>\n",
        "<span style=\"color: blue;\">This text is blue.</span>\n",
        "<span style=\"color: green;\">This text is green.</span>\n",
        "\n"
      ],
      "metadata": {
        "id": "EPQvRwRwPPNo"
      }
    },
    {
      "cell_type": "markdown",
      "source": [],
      "metadata": {
        "id": "MvZkuUG8Pabn"
      }
    },
    {
      "cell_type": "code",
      "source": [
        "from IPython.display import display, HTML\n",
        "\n",
        "# Display colored text\n",
        "display(HTML('<span style=\"color: red;\">This text is red.</span>'))\n"
      ],
      "metadata": {
        "colab": {
          "base_uri": "https://localhost:8080/",
          "height": 34
        },
        "id": "F-__u9DUPbUs",
        "outputId": "c8c5633c-0c4e-443d-f0e7-e1dd867bfeda"
      },
      "execution_count": 7,
      "outputs": [
        {
          "output_type": "display_data",
          "data": {
            "text/plain": [
              "<IPython.core.display.HTML object>"
            ],
            "text/html": [
              "<span style=\"color: red;\">This text is red.</span>"
            ]
          },
          "metadata": {}
        }
      ]
    }
  ]
}